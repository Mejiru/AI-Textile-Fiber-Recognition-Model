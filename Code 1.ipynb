{
 "cells": [
  {
   "cell_type": "code",
   "execution_count": null,
   "metadata": {
    "colab": {
     "base_uri": "https://localhost:8080/"
    },
    "id": "WwmuEuGwVeBg",
    "outputId": "d9fe0aa9-73ac-4fc7-a22a-767fdf62c143"
   },
   "outputs": [
    {
     "name": "stdout",
     "output_type": "stream",
     "text": [
      "All needed packages imported successfully!\n"
     ]
    }
   ],
   "source": [
    "# Code by Irfan Bin Islam and Dr. Ghazanfar Latif / CAI@PMU\n",
    "%matplotlib inline\n",
    "%config InlineBackend.figure_format = 'retina'\n",
    "\n",
    "import matplotlib.pyplot as plt\n",
    "import numpy as np\n",
    "import pandas as pd\n",
    "import torch\n",
    "from torch import nn, optim\n",
    "import torch.nn.functional as F\n",
    "import torchvision\n",
    "from torchvision import datasets, transforms, models\n",
    "from torch.autograd import Variable\n",
    "from torch.utils.data.sampler import SubsetRandomSampler\n",
    "print(\"All needed packages imported successfully!\")"
   ]
  },
  {
   "cell_type": "code",
   "execution_count": 2,
   "metadata": {
    "colab": {
     "base_uri": "https://localhost:8080/"
    },
    "id": "94YFPfHRV9Dp",
    "outputId": "d9cb1b3e-3cf6-4b4f-ed2b-b2a1a990b710"
   },
   "outputs": [],
   "source": [
    "\n",
    "data_dir = r'C:\\Samples\\Multiple'\n",
    "\n",
    "# You have to change based on the your dataset folder names.\n",
    "classes=['Silk', 'Cotton', 'Polyester']"
   ]
  },
  {
   "cell_type": "code",
   "execution_count": 3,
   "metadata": {
    "colab": {
     "base_uri": "https://localhost:8080/"
    },
    "id": "xoL6_SWGoPIR",
    "outputId": "ba0ab5ec-cb1d-40a1-8fc0-075c8dc5c140"
   },
   "outputs": [
    {
     "name": "stdout",
     "output_type": "stream",
     "text": [
      "Total images: 0\n"
     ]
    }
   ],
   "source": [
    "import os\n",
    "from glob import glob\n",
    "images = glob(os.path.join(data_dir, '*/*.png'))\n",
    "tot_images = len(images)\n",
    "print('Total images:', tot_images)\n",
    "\n",
    "# import cv2\n",
    "# img1 = cv2.resize(img1, (224, 224))"
   ]
  },
  {
   "cell_type": "code",
   "execution_count": 4,
   "metadata": {
    "colab": {
     "base_uri": "https://localhost:8080/"
    },
    "id": "K836Z40AoTta",
    "outputId": "692e689a-d3a7-4146-9b60-6d228c1ed662"
   },
   "outputs": [
    {
     "name": "stdout",
     "output_type": "stream",
     "text": [
      "Class             Count\n",
      "------------------------\n",
      "Cotton               322\n",
      "Polyester            300\n",
      "Silk                 350\n",
      "Total number of classes: 3\n"
     ]
    }
   ],
   "source": [
    "im_cnt = []\n",
    "class_names = []\n",
    "print('{:18s}'.format('Class'), end='')\n",
    "print('Count')\n",
    "print('-' * 24)\n",
    "for folder in os.listdir(os.path.join(data_dir)):\n",
    "    folder_num = len(os.listdir(os.path.join(data_dir, folder)))\n",
    "    im_cnt.append(folder_num)\n",
    "    class_names.append(folder)\n",
    "    print('{:20s}'.format(folder), end=' ')\n",
    "    print(folder_num)\n",
    "    if (folder_num < tot_images):\n",
    "        tot_images = folder_num\n",
    "        folder_num = folder\n",
    "\n",
    "num_classes = len(class_names)\n",
    "print('Total number of classes: {}'.format(num_classes))\n",
    "\n"
   ]
  },
  {
   "cell_type": "code",
   "execution_count": null,
   "metadata": {
    "id": "gm07dDTgoTlv"
   },
   "outputs": [],
   "source": []
  },
  {
   "cell_type": "code",
   "execution_count": 5,
   "metadata": {
    "colab": {
     "base_uri": "https://localhost:8080/"
    },
    "id": "ITWlgTmgoeeI",
    "outputId": "d8b7cef4-db3b-4fee-c99c-c923051fabae"
   },
   "outputs": [
    {
     "name": "stdout",
     "output_type": "stream",
     "text": [
      "Total samples: 972\n",
      "Training samples: 777\n",
      "Validation samples: 97\n",
      "Test samples: 98\n"
     ]
    }
   ],
   "source": [
    "from sklearn.model_selection import train_test_split\n",
    "from torch.utils.data import DataLoader, Dataset, random_split\n",
    "from torchvision import datasets, transforms\n",
    "import numpy as np\n",
    "\n",
    "# Define transformations\n",
    "data_transforms = {\n",
    "    \"train_transforms\": transforms.Compose([\n",
    "        transforms.RandomRotation(30),\n",
    "        transforms.RandomResizedCrop(299),\n",
    "        transforms.RandomHorizontalFlip(),\n",
    "        transforms.ToTensor(),\n",
    "        transforms.Normalize([0.485, 0.456, 0.406],\n",
    "                             [0.229, 0.224, 0.225])\n",
    "    ]),\n",
    "    \"valid_test_transforms\": transforms.Compose([\n",
    "        transforms.Resize(299),\n",
    "        transforms.CenterCrop(299),\n",
    "        transforms.ToTensor(),\n",
    "        transforms.Normalize([0.485, 0.456, 0.406],\n",
    "                             [0.229, 0.224, 0.225])\n",
    "    ]),\n",
    "}\n",
    "\n",
    "# Load the full dataset\n",
    "full_dataset = datasets.ImageFolder(data_dir, transform=None)\n",
    "\n",
    "# Retrieve targets (labels) for stratification\n",
    "targets = full_dataset.targets\n",
    "\n",
    "# Split dataset into train, validation, and test sets using stratified sampling\n",
    "train_idx, temp_idx = train_test_split(list(range(len(full_dataset))), stratify=targets, test_size=0.2)\n",
    "valid_idx, test_idx = train_test_split(temp_idx, stratify=[targets[i] for i in temp_idx], test_size=0.5)\n",
    "\n",
    "# Create subsets for train, validation, and test using the indices from the splits\n",
    "train_data = torch.utils.data.Subset(full_dataset, train_idx)\n",
    "valid_data = torch.utils.data.Subset(full_dataset, valid_idx)\n",
    "test_data = torch.utils.data.Subset(full_dataset, test_idx)\n",
    "\n",
    "# Apply transformations to each subset\n",
    "train_data.dataset.transform = data_transforms[\"train_transforms\"]\n",
    "valid_data.dataset.transform = data_transforms[\"valid_test_transforms\"]\n",
    "test_data.dataset.transform = data_transforms[\"valid_test_transforms\"]\n",
    "\n",
    "# Create DataLoaders\n",
    "trainloader = DataLoader(train_data, batch_size=16, shuffle=True)\n",
    "validloader = DataLoader(valid_data, batch_size=16, shuffle=False)\n",
    "testloader = DataLoader(test_data, batch_size=16, shuffle=False)\n",
    "\n",
    "# Verify the sizes and ensure iteration works\n",
    "print(f\"Total samples: {len(full_dataset)}\")\n",
    "print(f\"Training samples: {len(train_data)}\")\n",
    "print(f\"Validation samples: {len(valid_data)}\")\n",
    "print(f\"Test samples: {len(test_data)}\")"
   ]
  },
  {
   "cell_type": "code",
   "execution_count": 6,
   "metadata": {
    "id": "HpVMaiEPpgtf"
   },
   "outputs": [],
   "source": [
    "# Define a custom sampler for the dataset loader avoiding recreating the dataset (just creating a new loader for each different sampling)\n",
    "train_sampler = SubsetRandomSampler(train_idx)\n",
    "valid_sampler = SubsetRandomSampler(valid_idx)\n",
    "test_sampler = SubsetRandomSampler(test_idx)"
   ]
  },
  {
   "cell_type": "code",
   "execution_count": 7,
   "metadata": {
    "id": "vuIFbrk2phVP"
   },
   "outputs": [],
   "source": [
    "# Create DataLoaders with the appropriate transformations and samplers \n",
    "trainloader = DataLoader(datasets.ImageFolder(data_dir, transform=data_transforms[\"train_transforms\"]), batch_size=16, sampler=train_sampler) \n",
    "validloader = DataLoader(datasets.ImageFolder(data_dir, transform=data_transforms[\"valid_test_transforms\"]), batch_size=16, sampler=valid_sampler) \n",
    "testloader = DataLoader(datasets.ImageFolder(data_dir, transform=data_transforms[\"valid_test_transforms\"]), batch_size=16, sampler=test_sampler)"
   ]
  },
  {
   "cell_type": "code",
   "execution_count": 8,
   "metadata": {
    "id": "b9ZF0Asxp2wY"
   },
   "outputs": [],
   "source": [
    "#helper function to un-normalize and display an image\n",
    "def imshow(img):\n",
    "    img = img / 2 + 0.5 #unnormalize\n",
    "    plt.imshow(np.transpose(img, (1,2,0))) #convert tensor image type to numpy image type for visualization"
   ]
  },
  {
   "cell_type": "code",
   "execution_count": 9,
   "metadata": {
    "colab": {
     "base_uri": "https://localhost:8080/"
    },
    "id": "LV-QTGY-p6B3",
    "outputId": "ba7224ec-4c80-4045-99f9-75672a3db28d"
   },
   "outputs": [
    {
     "name": "stderr",
     "output_type": "stream",
     "text": [
      "C:\\Users\\patwe\\AppData\\Local\\Packages\\PythonSoftwareFoundation.Python.3.11_qbz5n2kfra8p0\\LocalCache\\local-packages\\Python311\\site-packages\\torchvision\\models\\_utils.py:208: UserWarning: The parameter 'pretrained' is deprecated since 0.13 and may be removed in the future, please use 'weights' instead.\n",
      "  warnings.warn(\n",
      "C:\\Users\\patwe\\AppData\\Local\\Packages\\PythonSoftwareFoundation.Python.3.11_qbz5n2kfra8p0\\LocalCache\\local-packages\\Python311\\site-packages\\torchvision\\models\\_utils.py:223: UserWarning: Arguments other than a weight enum or `None` for 'weights' are deprecated since 0.13 and may be removed in the future. The current behavior is equivalent to passing `weights=ResNet18_Weights.IMAGENET1K_V1`. You can also use `weights=ResNet18_Weights.DEFAULT` to get the most up-to-date weights.\n",
      "  warnings.warn(msg)\n"
     ]
    }
   ],
   "source": [
    "# Specify model architecture\n",
    "# Load the pretrained model from pytorch's library and stored it in model_transfer\n",
    "#model_transfer = models.googlenet(pretrained=True)\n",
    "#model_transfer = models.vgg16(pretrained=True)\n",
    "model_transfer = models.resnet18(pretrained=True)\n",
    "# Check if GPU is available\n",
    "use_cuda = torch.cuda.is_available()\n",
    "if use_cuda:\n",
    "    model_transfer = model_transfer.cuda()"
   ]
  },
  {
   "cell_type": "code",
   "execution_count": 10,
   "metadata": {
    "colab": {
     "base_uri": "https://localhost:8080/"
    },
    "id": "PjBKI33Sp8no",
    "outputId": "568faf50-8e51-42cd-9136-47695dae1312"
   },
   "outputs": [
    {
     "name": "stdout",
     "output_type": "stream",
     "text": [
      "ResNet(\n",
      "  (conv1): Conv2d(3, 64, kernel_size=(7, 7), stride=(2, 2), padding=(3, 3), bias=False)\n",
      "  (bn1): BatchNorm2d(64, eps=1e-05, momentum=0.1, affine=True, track_running_stats=True)\n",
      "  (relu): ReLU(inplace=True)\n",
      "  (maxpool): MaxPool2d(kernel_size=3, stride=2, padding=1, dilation=1, ceil_mode=False)\n",
      "  (layer1): Sequential(\n",
      "    (0): BasicBlock(\n",
      "      (conv1): Conv2d(64, 64, kernel_size=(3, 3), stride=(1, 1), padding=(1, 1), bias=False)\n",
      "      (bn1): BatchNorm2d(64, eps=1e-05, momentum=0.1, affine=True, track_running_stats=True)\n",
      "      (relu): ReLU(inplace=True)\n",
      "      (conv2): Conv2d(64, 64, kernel_size=(3, 3), stride=(1, 1), padding=(1, 1), bias=False)\n",
      "      (bn2): BatchNorm2d(64, eps=1e-05, momentum=0.1, affine=True, track_running_stats=True)\n",
      "    )\n",
      "    (1): BasicBlock(\n",
      "      (conv1): Conv2d(64, 64, kernel_size=(3, 3), stride=(1, 1), padding=(1, 1), bias=False)\n",
      "      (bn1): BatchNorm2d(64, eps=1e-05, momentum=0.1, affine=True, track_running_stats=True)\n",
      "      (relu): ReLU(inplace=True)\n",
      "      (conv2): Conv2d(64, 64, kernel_size=(3, 3), stride=(1, 1), padding=(1, 1), bias=False)\n",
      "      (bn2): BatchNorm2d(64, eps=1e-05, momentum=0.1, affine=True, track_running_stats=True)\n",
      "    )\n",
      "  )\n",
      "  (layer2): Sequential(\n",
      "    (0): BasicBlock(\n",
      "      (conv1): Conv2d(64, 128, kernel_size=(3, 3), stride=(2, 2), padding=(1, 1), bias=False)\n",
      "      (bn1): BatchNorm2d(128, eps=1e-05, momentum=0.1, affine=True, track_running_stats=True)\n",
      "      (relu): ReLU(inplace=True)\n",
      "      (conv2): Conv2d(128, 128, kernel_size=(3, 3), stride=(1, 1), padding=(1, 1), bias=False)\n",
      "      (bn2): BatchNorm2d(128, eps=1e-05, momentum=0.1, affine=True, track_running_stats=True)\n",
      "      (downsample): Sequential(\n",
      "        (0): Conv2d(64, 128, kernel_size=(1, 1), stride=(2, 2), bias=False)\n",
      "        (1): BatchNorm2d(128, eps=1e-05, momentum=0.1, affine=True, track_running_stats=True)\n",
      "      )\n",
      "    )\n",
      "    (1): BasicBlock(\n",
      "      (conv1): Conv2d(128, 128, kernel_size=(3, 3), stride=(1, 1), padding=(1, 1), bias=False)\n",
      "      (bn1): BatchNorm2d(128, eps=1e-05, momentum=0.1, affine=True, track_running_stats=True)\n",
      "      (relu): ReLU(inplace=True)\n",
      "      (conv2): Conv2d(128, 128, kernel_size=(3, 3), stride=(1, 1), padding=(1, 1), bias=False)\n",
      "      (bn2): BatchNorm2d(128, eps=1e-05, momentum=0.1, affine=True, track_running_stats=True)\n",
      "    )\n",
      "  )\n",
      "  (layer3): Sequential(\n",
      "    (0): BasicBlock(\n",
      "      (conv1): Conv2d(128, 256, kernel_size=(3, 3), stride=(2, 2), padding=(1, 1), bias=False)\n",
      "      (bn1): BatchNorm2d(256, eps=1e-05, momentum=0.1, affine=True, track_running_stats=True)\n",
      "      (relu): ReLU(inplace=True)\n",
      "      (conv2): Conv2d(256, 256, kernel_size=(3, 3), stride=(1, 1), padding=(1, 1), bias=False)\n",
      "      (bn2): BatchNorm2d(256, eps=1e-05, momentum=0.1, affine=True, track_running_stats=True)\n",
      "      (downsample): Sequential(\n",
      "        (0): Conv2d(128, 256, kernel_size=(1, 1), stride=(2, 2), bias=False)\n",
      "        (1): BatchNorm2d(256, eps=1e-05, momentum=0.1, affine=True, track_running_stats=True)\n",
      "      )\n",
      "    )\n",
      "    (1): BasicBlock(\n",
      "      (conv1): Conv2d(256, 256, kernel_size=(3, 3), stride=(1, 1), padding=(1, 1), bias=False)\n",
      "      (bn1): BatchNorm2d(256, eps=1e-05, momentum=0.1, affine=True, track_running_stats=True)\n",
      "      (relu): ReLU(inplace=True)\n",
      "      (conv2): Conv2d(256, 256, kernel_size=(3, 3), stride=(1, 1), padding=(1, 1), bias=False)\n",
      "      (bn2): BatchNorm2d(256, eps=1e-05, momentum=0.1, affine=True, track_running_stats=True)\n",
      "    )\n",
      "  )\n",
      "  (layer4): Sequential(\n",
      "    (0): BasicBlock(\n",
      "      (conv1): Conv2d(256, 512, kernel_size=(3, 3), stride=(2, 2), padding=(1, 1), bias=False)\n",
      "      (bn1): BatchNorm2d(512, eps=1e-05, momentum=0.1, affine=True, track_running_stats=True)\n",
      "      (relu): ReLU(inplace=True)\n",
      "      (conv2): Conv2d(512, 512, kernel_size=(3, 3), stride=(1, 1), padding=(1, 1), bias=False)\n",
      "      (bn2): BatchNorm2d(512, eps=1e-05, momentum=0.1, affine=True, track_running_stats=True)\n",
      "      (downsample): Sequential(\n",
      "        (0): Conv2d(256, 512, kernel_size=(1, 1), stride=(2, 2), bias=False)\n",
      "        (1): BatchNorm2d(512, eps=1e-05, momentum=0.1, affine=True, track_running_stats=True)\n",
      "      )\n",
      "    )\n",
      "    (1): BasicBlock(\n",
      "      (conv1): Conv2d(512, 512, kernel_size=(3, 3), stride=(1, 1), padding=(1, 1), bias=False)\n",
      "      (bn1): BatchNorm2d(512, eps=1e-05, momentum=0.1, affine=True, track_running_stats=True)\n",
      "      (relu): ReLU(inplace=True)\n",
      "      (conv2): Conv2d(512, 512, kernel_size=(3, 3), stride=(1, 1), padding=(1, 1), bias=False)\n",
      "      (bn2): BatchNorm2d(512, eps=1e-05, momentum=0.1, affine=True, track_running_stats=True)\n",
      "    )\n",
      "  )\n",
      "  (avgpool): AdaptiveAvgPool2d(output_size=(1, 1))\n",
      "  (fc): Linear(in_features=512, out_features=1000, bias=True)\n",
      ")\n"
     ]
    }
   ],
   "source": [
    "#print the model to see all the layers\n",
    "print(model_transfer)"
   ]
  },
  {
   "cell_type": "code",
   "execution_count": 11,
   "metadata": {
    "colab": {
     "base_uri": "https://localhost:8080/"
    },
    "id": "izAC_NYEqAHK",
    "outputId": "b33cedb3-8c8b-47ea-8d48-7b4854a7b69b"
   },
   "outputs": [
    {
     "name": "stdout",
     "output_type": "stream",
     "text": [
      "512\n",
      "1000\n"
     ]
    }
   ],
   "source": [
    "#Lets read the fully connected layer\n",
    "print(model_transfer.fc.in_features)\n",
    "print(model_transfer.fc.out_features)"
   ]
  },
  {
   "cell_type": "code",
   "execution_count": 12,
   "metadata": {
    "id": "EoZlE-M1qCHw"
   },
   "outputs": [],
   "source": [
    "for param in model_transfer.parameters():\n",
    "    param.requires_grad=True"
   ]
  },
  {
   "cell_type": "code",
   "execution_count": 13,
   "metadata": {
    "colab": {
     "base_uri": "https://localhost:8080/"
    },
    "id": "mz7JlldhqGMD",
    "outputId": "1a853d60-14ce-4c31-ec21-b753a7ae5260"
   },
   "outputs": [
    {
     "name": "stdout",
     "output_type": "stream",
     "text": [
      "3\n"
     ]
    }
   ],
   "source": [
    "# Define n_inputs takes the same number of inputs from pre-trained model\n",
    "n_inputs = model_transfer.fc.in_features #refer to the fully connected layer only\n",
    "\n",
    "# Add last linear layer (n_inputs -> 4 classes). In this case the ouput is 4 classes\n",
    "# New layer automatically has requires_grad = True\n",
    "last_layer = nn.Linear(n_inputs, len(classes))\n",
    "\n",
    "model_transfer.fc = last_layer\n",
    "\n",
    "# If GPU is available, move the model to GPU\n",
    "if use_cuda:\n",
    "    model_transfer = model_transfer.cuda()\n",
    "\n",
    "# Check to see the last layer produces the expected number of outputs\n",
    "print(model_transfer.fc.out_features)"
   ]
  },
  {
   "cell_type": "code",
   "execution_count": 14,
   "metadata": {
    "id": "mrtwfke3qILr"
   },
   "outputs": [],
   "source": [
    "# Specify loss function and optimizer\n",
    "criterion_transfer = nn.CrossEntropyLoss()\n",
    "optimizer_transfer = optim.SGD(model_transfer.parameters(), lr=0.001, momentum=0.9)"
   ]
  },
  {
   "cell_type": "code",
   "execution_count": null,
   "metadata": {
    "colab": {
     "base_uri": "https://localhost:8080/"
    },
    "id": "19JafuhPqIt9",
    "outputId": "e8bde104-d313-4266-ccc3-35de883ce7f8"
   },
   "outputs": [
    {
     "name": "stdout",
     "output_type": "stream",
     "text": [
      "Epoch: 1 \tTraining Loss: 0.85262 \tValidation Loss: 0.38176\n",
      "Validation loss decreased (inf --> 0.38176). Saving model ...\n",
      "Epoch: 2 \tTraining Loss: 0.42875 \tValidation Loss: 0.16963\n",
      "Validation loss decreased (inf --> 0.16963). Saving model ...\n",
      "Epoch: 3 \tTraining Loss: 0.31850 \tValidation Loss: 0.11177\n",
      "Validation loss decreased (inf --> 0.11177). Saving model ...\n",
      "Epoch: 4 \tTraining Loss: 0.22835 \tValidation Loss: 0.12429\n",
      "Validation loss decreased (inf --> 0.12429). Saving model ...\n",
      "Epoch: 5 \tTraining Loss: 0.23822 \tValidation Loss: 0.05880\n",
      "Validation loss decreased (inf --> 0.05880). Saving model ...\n",
      "Epoch: 6 \tTraining Loss: 0.20293 \tValidation Loss: 0.04453\n",
      "Validation loss decreased (inf --> 0.04453). Saving model ...\n",
      "Epoch: 7 \tTraining Loss: 0.18852 \tValidation Loss: 0.03298\n",
      "Validation loss decreased (inf --> 0.03298). Saving model ...\n",
      "Epoch: 8 \tTraining Loss: 0.16954 \tValidation Loss: 0.08636\n",
      "Validation loss decreased (inf --> 0.08636). Saving model ...\n",
      "Epoch: 9 \tTraining Loss: 0.13346 \tValidation Loss: 0.02144\n",
      "Validation loss decreased (inf --> 0.02144). Saving model ...\n",
      "Epoch: 10 \tTraining Loss: 0.16602 \tValidation Loss: 0.06637\n",
      "Validation loss decreased (inf --> 0.06637). Saving model ...\n",
      "Epoch: 11 \tTraining Loss: 0.17264 \tValidation Loss: 0.02065\n",
      "Validation loss decreased (inf --> 0.02065). Saving model ...\n",
      "Epoch: 12 \tTraining Loss: 0.13031 \tValidation Loss: 0.01435\n",
      "Validation loss decreased (inf --> 0.01435). Saving model ...\n",
      "Epoch: 13 \tTraining Loss: 0.12747 \tValidation Loss: 0.02912\n",
      "Validation loss decreased (inf --> 0.02912). Saving model ...\n",
      "Epoch: 14 \tTraining Loss: 0.10955 \tValidation Loss: 0.00590\n",
      "Validation loss decreased (inf --> 0.00590). Saving model ...\n",
      "Epoch: 15 \tTraining Loss: 0.12963 \tValidation Loss: 0.01571\n",
      "Validation loss decreased (inf --> 0.01571). Saving model ...\n",
      "Epoch: 16 \tTraining Loss: 0.17636 \tValidation Loss: 0.03380\n",
      "Validation loss decreased (inf --> 0.03380). Saving model ...\n",
      "Epoch: 17 \tTraining Loss: 0.11114 \tValidation Loss: 0.00383\n",
      "Validation loss decreased (inf --> 0.00383). Saving model ...\n",
      "Epoch: 18 \tTraining Loss: 0.11442 \tValidation Loss: 0.00332\n",
      "Validation loss decreased (inf --> 0.00332). Saving model ...\n",
      "Epoch: 19 \tTraining Loss: 0.09550 \tValidation Loss: 0.01312\n",
      "Validation loss decreased (inf --> 0.01312). Saving model ...\n",
      "Epoch: 20 \tTraining Loss: 0.09685 \tValidation Loss: 0.00244\n",
      "Validation loss decreased (inf --> 0.00244). Saving model ...\n"
     ]
    }
   ],
   "source": [
    "# Train the model\n",
    "def train(n_epochs, loaders, model, optimizer, criterion, use_cuda, save_path):\n",
    "    '''returns trained model'''\n",
    "    # Initialize tracker for minimum validation loss\n",
    "    valid_loss_min = np.inf\n",
    "\n",
    "    for epoch in range(1, n_epochs+1):\n",
    "        # In the training loop, I track down the loss\n",
    "        # Initialize variables to monitor training and validation loss\n",
    "        train_loss = 0.0\n",
    "        valid_loss = 0.0\n",
    "\n",
    "        # Model training\n",
    "        model.train()\n",
    "        for batch_idx, (data,target) in enumerate(trainloader):\n",
    "            # 1st step: Move to GPU\n",
    "            if use_cuda:\n",
    "                data,target = data.cuda(), target.cuda()\n",
    "\n",
    "            # Then, clear (zero out) the gradient of all optimized variables\n",
    "            optimizer.zero_grad()\n",
    "            # Forward pass: compute predicted outputs by passing inputs to the model\n",
    "            output = model(data)\n",
    "            # Perform the Cross Entropy Loss. Calculate the batch loss.\n",
    "            loss = criterion(output, target)\n",
    "            # Backward pass: compute gradient of the loss with respect to model parameters\n",
    "            loss.backward()\n",
    "            # Perform optimization step (parameter update)\n",
    "            optimizer.step()\n",
    "            # Record the average training loss\n",
    "            train_loss = train_loss + ((1/ (batch_idx + 1 ))*(loss.data-train_loss))\n",
    "\n",
    "        # Model validation\n",
    "        model.eval()\n",
    "        for batch_idx, (data,target) in enumerate(validloader):\n",
    "            # Move to GPU\n",
    "            if use_cuda:\n",
    "                data, target = data.cuda(), target.cuda()\n",
    "            # Update the average validation loss\n",
    "            # Forward pass: compute predicted outputs by passing inputs to the model\n",
    "            output = model(data)\n",
    "            # Calculate the batch loss\n",
    "            loss = criterion(output, target)\n",
    "            # Update the average validation loss\n",
    "            valid_loss = valid_loss + ((1/ (batch_idx +1)) * (loss.data - valid_loss))\n",
    "\n",
    "        # print training/validation stats\n",
    "        print('Epoch: {} \\tTraining Loss: {:.5f} \\tValidation Loss: {:.5f}'.format(\n",
    "            epoch,\n",
    "            train_loss,\n",
    "            valid_loss))\n",
    "\n",
    "        # Save the model if validation loss has decreased\n",
    "        if valid_loss <= valid_loss_min:\n",
    "          print('Validation loss decreased ({:.5f} --> {:.5f}). Saving model ...'.format(\n",
    "          valid_loss_min,\n",
    "          valid_loss))\n",
    "    # Save the model to the specified path\n",
    "    torch.save(model.state_dict(), r'C:\\coding\\res.pt')  # Use raw string for Windows path\n",
    "    valid_loss_min = valid_loss\n",
    "\n",
    "    # Return trained modelddddddd\n",
    "\n",
    "# Define loaders transfer\n",
    "loaders_transfer = {'train': trainloader,\n",
    "                    'valid': validloader,\n",
    "                    'test': testloader}\n",
    "\n",
    "# Train the model\n",
    "model_transfer = train(20, loaders_transfer, model_transfer, optimizer_transfer, criterion_transfer, use_cuda, 'res.pt')"
   ]
  },
  {
   "cell_type": "code",
   "execution_count": 18,
   "metadata": {
    "colab": {
     "base_uri": "https://localhost:8080/"
    },
    "id": "EeLa82SBqPLH",
    "outputId": "e0b170ad-cf6d-4dc5-80ae-0daf64189794"
   },
   "outputs": [
    {
     "name": "stderr",
     "output_type": "stream",
     "text": [
      "C:\\Users\\patwe\\AppData\\Local\\Temp\\ipykernel_9536\\3757104632.py:1: FutureWarning: You are using `torch.load` with `weights_only=False` (the current default value), which uses the default pickle module implicitly. It is possible to construct malicious pickle data which will execute arbitrary code during unpickling (See https://github.com/pytorch/pytorch/blob/main/SECURITY.md#untrusted-models for more details). In a future release, the default value for `weights_only` will be flipped to `True`. This limits the functions that could be executed during unpickling. Arbitrary objects will no longer be allowed to be loaded via this mode unless they are explicitly allowlisted by the user via `torch.serialization.add_safe_globals`. We recommend you start setting `weights_only=True` for any use case where you don't have full control of the loaded file. Please open an issue on GitHub for any issues related to this experimental feature.\n",
      "  model_transfer.load_state_dict(torch.load(r'C:\\coding\\res.pt'))\n"
     ]
    },
    {
     "data": {
      "text/plain": [
       "<All keys matched successfully>"
      ]
     },
     "execution_count": 18,
     "metadata": {},
     "output_type": "execute_result"
    }
   ],
   "source": [
    "model_transfer.load_state_dict(torch.load(r'C:\\coding\\res.pt'))\n"
   ]
  },
  {
   "cell_type": "code",
   "execution_count": 19,
   "metadata": {
    "colab": {
     "base_uri": "https://localhost:8080/"
    },
    "id": "FBZc9E81qPzH",
    "outputId": "a1bc4fee-24f6-4954-8cd3-a7f02b63da95"
   },
   "outputs": [
    {
     "name": "stdout",
     "output_type": "stream",
     "text": [
      "Test Loss: 0.002850\n",
      "\n",
      "\n",
      "Test Accuracy: 100% (98/98)\n"
     ]
    }
   ],
   "source": [
    "def test(loaders, model, criterion, use_cuda):\n",
    "\n",
    "    # monitor test loss and accuracy\n",
    "    test_loss = 0.\n",
    "    correct = 0.\n",
    "    total = 0.\n",
    "\n",
    "    model_transfer.eval() #set model into evaluation/testing mode. It turns of drop off layer\n",
    "    #Iterating over test data\n",
    "    for batch_idx, (data, target) in enumerate(loaders['test']):\n",
    "        # move to GPU\n",
    "        if use_cuda:\n",
    "            data, target = data.cuda(), target.cuda()\n",
    "        # forward pass: compute predicted outputs by passing inputs to the model\n",
    "        output = model(data)\n",
    "        # calculate the loss\n",
    "        loss = criterion(output, target)\n",
    "        # update average test loss\n",
    "        test_loss = test_loss + ((1 / (batch_idx + 1)) * (loss.data - test_loss))\n",
    "        # convert output probabilities to predicted class\n",
    "        pred = output.data.max(1, keepdim=True)[1]\n",
    "        # compare predictions to\n",
    "        correct += np.sum(np.squeeze(pred.eq(target.data.view_as(pred))).cpu().numpy())\n",
    "        total += data.size(0)\n",
    "\n",
    "    print('Test Loss: {:.6f}\\n'.format(test_loss))\n",
    "\n",
    "    print('\\nTest Accuracy: %2d%% (%2d/%2d)' % (\n",
    "        100. * correct / total, correct, total))\n",
    "\n",
    "# call test function\n",
    "test(loaders_transfer, model_transfer, criterion_transfer, use_cuda)"
   ]
  },
  {
   "cell_type": "code",
   "execution_count": 20,
   "metadata": {
    "id": "oUiB5FvnqWOx"
   },
   "outputs": [
    {
     "name": "stdout",
     "output_type": "stream",
     "text": [
      "Test Loss: 0.002295\n",
      "Test Accuracy: 100.00% (98/98)\n",
      "Predicted class counts: {'Cotton': 33, 'Polyester': 30, 'Silk': 35}\n",
      "\n",
      "Confusion Matrix:\n",
      " [[33  0  0]\n",
      " [ 0 30  0]\n",
      " [ 0  0 35]]\n"
     ]
    },
    {
     "data": {
      "image/png": "[encoded data removed]",
      "text/plain": [
       "<Figure size 1000x800 with 2 Axes>"
      ]
     },
     "metadata": {
      "image/png": {
       "height": 700,
       "width": 780
      }
     },
     "output_type": "display_data"
    },
    {
     "name": "stdout",
     "output_type": "stream",
     "text": [
      "\n",
      "Classification Report:\n",
      "               precision    recall  f1-score   support\n",
      "\n",
      "      Cotton       1.00      1.00      1.00        33\n",
      "   Polyester       1.00      1.00      1.00        30\n",
      "        Silk       1.00      1.00      1.00        35\n",
      "\n",
      "    accuracy                           1.00        98\n",
      "   macro avg       1.00      1.00      1.00        98\n",
      "weighted avg       1.00      1.00      1.00        98\n",
      "\n"
     ]
    }
   ],
   "source": [
    "from sklearn.metrics import confusion_matrix, classification_report\n",
    "import seaborn as sns\n",
    "import matplotlib.pyplot as plt\n",
    "import numpy as np\n",
    "\n",
    "def test(loaders, model, criterion, use_cuda, class_names):\n",
    "    # Initialize variables to monitor test loss and accuracy\n",
    "    test_loss = 0.0\n",
    "    correct = 0\n",
    "    total = 0\n",
    "\n",
    "    all_preds = []  # To store all predictions\n",
    "    all_targets = []  # To store all true labels\n",
    "\n",
    "    model.eval()  # Set model to evaluation mode (disable dropout, batchnorm updates)\n",
    "    \n",
    "    # Iterate over test data\n",
    "    with torch.no_grad():  # Disable gradient computation for efficiency\n",
    "        for batch_idx, (data, target) in enumerate(loaders['test']):\n",
    "            # Move data and target to GPU if available\n",
    "            if use_cuda:\n",
    "                data, target = data.cuda(), target.cuda()\n",
    "\n",
    "            # Forward pass: compute predicted outputs by passing inputs to the model\n",
    "            output = model(data)  # Directly get the logits; no auxiliary outputs\n",
    "\n",
    "            # Calculate the loss\n",
    "            loss = criterion(output, target)\n",
    "\n",
    "            # Update the cumulative test loss\n",
    "            test_loss += loss.item()  # Sum the losses for averaging later\n",
    "\n",
    "            # Get the predicted class by finding the index of the max logit\n",
    "            pred = output.argmax(1, keepdim=False)  # Index of the max logit\n",
    "\n",
    "            # Store predictions and true labels\n",
    "            all_preds.extend(pred.cpu().numpy())\n",
    "            all_targets.extend(target.cpu().numpy())\n",
    "\n",
    "            # Compare predictions to true labels\n",
    "            correct += pred.eq(target).sum().item()\n",
    "            total += data.size(0)\n",
    "\n",
    "    # Calculate average test loss\n",
    "    test_loss /= len(loaders['test'])  # Average test loss over all batches\n",
    "\n",
    "    # Print test loss and accuracy\n",
    "    print(f'Test Loss: {test_loss:.6f}')\n",
    "    print(f'Test Accuracy: {100. * correct / total:.2f}% ({correct}/{total})')\n",
    "\n",
    "    # Print class counts in predictions (debugging missing classes)\n",
    "    print(\"Predicted class counts:\", {class_name: all_preds.count(i) for i, class_name in enumerate(class_names)})\n",
    "\n",
    "    # Ensure all classes are included in confusion matrix and report\n",
    "    labels = range(len(class_names))  # Ensure all class indices are included\n",
    "    cm = confusion_matrix(all_targets, all_preds, labels=labels)\n",
    "    print(\"\\nConfusion Matrix:\\n\", cm)\n",
    "\n",
    "    # Plot confusion matrix heatmap\n",
    "    plt.figure(figsize=(10, 8))\n",
    "    sns.heatmap(cm, annot=True, fmt='d', cmap='Blues', xticklabels=class_names, yticklabels=class_names)\n",
    "    plt.xlabel('Predicted')\n",
    "    plt.ylabel('Actual')\n",
    "    plt.title('Confusion Matrix Heatmap')\n",
    "    plt.show()\n",
    "\n",
    "    # Print classification report\n",
    "    report = classification_report(all_targets, all_preds, target_names=class_names, labels=labels)\n",
    "    print(\"\\nClassification Report:\\n\", report)\n",
    "\n",
    "# Example usage:\n",
    "class_names = [\"Cotton\", \"Polyester\", \"Silk\"]  # Replace with your class names\n",
    "test(loaders_transfer, model_transfer, criterion_transfer, use_cuda, class_names)"
   ]
  }
 ],
 "metadata": {
  "colab": {
   "provenance": []
  },
  "kernelspec": {
   "display_name": "Python 3",
   "name": "python3"
  },
  "language_info": {
   "codemirror_mode": {
    "name": "ipython",
    "version": 3
   },
   "file_extension": ".py",
   "mimetype": "text/x-python",
   "name": "python",
   "nbconvert_exporter": "python",
   "pygments_lexer": "ipython3",
   "version": "3.11.9"
  }
 },
 "nbformat": 4,
 "nbformat_minor": 0
}
